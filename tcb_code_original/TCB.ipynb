{
 "cells": [
  {
   "cell_type": "code",
   "execution_count": 1,
   "id": "92fff2b3",
   "metadata": {},
   "outputs": [
    {
     "data": {
      "text/plain": [
       "'++0'"
      ]
     },
     "execution_count": 1,
     "metadata": {},
     "output_type": "execute_result"
    }
   ],
   "source": [
    "# %load TCB.py\n",
    "### Ternary Coded Binary (TCB) Library\n",
    "# TestLab, NCUE, 2019/09/02\n",
    "# \n",
    "\n",
    "# Binary to TCB Converter\n",
    "def Bin2TCB(B):\n",
    "    B=bin(B)\n",
    "    Q=''\n",
    "    T=''\n",
    "    L=len(B)\n",
    "    S=0\n",
    "    for i in range(L-1, 0, -1):\n",
    "        X=B[i]\n",
    "        if   Q=='':\n",
    "            if S==0:\n",
    "                if X=='0':\n",
    "                    T = '0' + T\n",
    "                elif X=='1':\n",
    "                    Q = '1'\n",
    "                else:\n",
    "                    break\n",
    "            else:\n",
    "                if X=='0':\n",
    "                    Q='0'\n",
    "                elif X=='1':\n",
    "                    T = '0' + T\n",
    "                    Q=''\n",
    "                else:\n",
    "                    T = '+' + T\n",
    "                    break\n",
    "        elif Q=='1':\n",
    "            if X=='0':\n",
    "                T= '0+' + T\n",
    "                Q=''\n",
    "            elif X=='1':\n",
    "                Q='11'\n",
    "            else:\n",
    "                T= '0+' + T\n",
    "                break\n",
    "        elif Q=='11':\n",
    "            if X=='0':\n",
    "                Q='011'\n",
    "            elif X=='1':\n",
    "                Q=''\n",
    "                S=1\n",
    "                T = '00-' + T\n",
    "            else:\n",
    "                T = '++' + T\n",
    "                break\n",
    "        elif Q=='011':\n",
    "            if X=='0':\n",
    "                T = '00++' + T\n",
    "                Q = ''\n",
    "            elif X=='1':\n",
    "                T = '0-' + T\n",
    "                Q = '11'\n",
    "            else:\n",
    "                T = '0++' + T\n",
    "                break\n",
    "        elif Q=='0':\n",
    "            S = 0\n",
    "            if X=='0':\n",
    "                T = '0+' + T\n",
    "                Q = ''\n",
    "            elif X=='1':\n",
    "                Q = '11'\n",
    "            else:\n",
    "                T = '+' + T\n",
    "                break\n",
    "        else:\n",
    "            print(\"Error\")\n",
    "    return(T)\n",
    "Bin2TCB(6)"
   ]
  },
  {
   "cell_type": "code",
   "execution_count": 2,
   "id": "45d886f0",
   "metadata": {},
   "outputs": [
    {
     "data": {
      "text/plain": [
       "249"
      ]
     },
     "execution_count": 2,
     "metadata": {},
     "output_type": "execute_result"
    }
   ],
   "source": [
    "# TCB to Binary Converter\n",
    "def TCB2Bin(T):\n",
    "    B=0\n",
    "    L = len(T)\n",
    "    for i in range(L):\n",
    "        if T[i] == '0':\n",
    "            t = 0\n",
    "        elif T[i] == '+':\n",
    "            t = 1\n",
    "        else:\n",
    "            t = -1\n",
    "        B += t * (1 << (L-1-i))\n",
    "    return(B)\n",
    "TCB2Bin('+0000-00+')\n",
    "\n"
   ]
  },
  {
   "cell_type": "code",
   "execution_count": 41,
   "id": "57235da0",
   "metadata": {},
   "outputs": [],
   "source": [
    "# Arithmetic Weight of a Binary Number\n",
    "def Weight(B):\n",
    "    return SWeight(Bin2TCB(B))\n",
    "\n"
   ]
  },
  {
   "cell_type": "code",
   "execution_count": 3,
   "id": "3f5c0363",
   "metadata": {},
   "outputs": [
    {
     "data": {
      "text/plain": [
       "3"
      ]
     },
     "execution_count": 3,
     "metadata": {},
     "output_type": "execute_result"
    }
   ],
   "source": [
    "#### Arithmetic Weight of a Ternary/Binary String\n",
    "def SWeight(S):\n",
    "    z = 0\n",
    "    for c in S:\n",
    "        if c == '0':\n",
    "            z += 1\n",
    "    return(len(S)-z)\n",
    "SWeight('+0000-00+')"
   ]
  },
  {
   "cell_type": "code",
   "execution_count": 43,
   "id": "60c3a599",
   "metadata": {},
   "outputs": [],
   "source": []
  }
 ],
 "metadata": {
  "kernelspec": {
   "display_name": "Python 3 (ipykernel)",
   "language": "python",
   "name": "python3"
  },
  "language_info": {
   "codemirror_mode": {
    "name": "ipython",
    "version": 3
   },
   "file_extension": ".py",
   "mimetype": "text/x-python",
   "name": "python",
   "nbconvert_exporter": "python",
   "pygments_lexer": "ipython3",
   "version": "3.11.4"
  }
 },
 "nbformat": 4,
 "nbformat_minor": 5
}
